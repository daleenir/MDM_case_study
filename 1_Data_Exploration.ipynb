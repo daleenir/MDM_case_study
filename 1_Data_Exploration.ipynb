{
 "cells": [
  {
   "cell_type": "code",
   "execution_count": 1,
   "id": "65085e04",
   "metadata": {},
   "outputs": [],
   "source": [
    "import pandas as pd\n",
    "import numpy as np\n",
    "import os\n",
    "from datetime import datetime"
   ]
  },
  {
   "cell_type": "markdown",
   "id": "53bc7cb2",
   "metadata": {},
   "source": [
    "#### Reading historical data into one dataframe"
   ]
  },
  {
   "cell_type": "code",
   "execution_count": 2,
   "id": "1bd7c9ea",
   "metadata": {},
   "outputs": [],
   "source": [
    "directory_name = 'Case_Study_Data_For_Share/'\n",
    "filepaths = [f\"{directory_name}{f}\" for f in os.listdir(directory_name) if f.endswith('.csv')]"
   ]
  },
  {
   "cell_type": "code",
   "execution_count": 3,
   "id": "9221df24",
   "metadata": {},
   "outputs": [],
   "source": [
    "master_df = pd.DataFrame()\n",
    "for fp in filepaths:\n",
    "    file_df = pd.read_csv(fp, sep='|',encoding= 'ANSI', parse_dates= ['Order Date', 'Ship Date'])\n",
    "    file_df['filename'] = fp.split('/')[-1]\n",
    "    master_df = master_df.append(file_df)"
   ]
  },
  {
   "cell_type": "markdown",
   "id": "0e86334d",
   "metadata": {},
   "source": [
    "#### Columns cleaning and data types checking"
   ]
  },
  {
   "cell_type": "code",
   "execution_count": 4,
   "id": "f90667c7",
   "metadata": {},
   "outputs": [],
   "source": [
    "## rename column names to lower case and spaces separated by _ (snake syntax)\n",
    "master_df.columns = [c.lower().replace(' ','_') for c in master_df.columns]"
   ]
  },
  {
   "cell_type": "code",
   "execution_count": 5,
   "id": "07b4c12b",
   "metadata": {},
   "outputs": [
    {
     "data": {
      "text/plain": [
       "row_id                    int64\n",
       "order_id                 object\n",
       "order_date       datetime64[ns]\n",
       "ship_date        datetime64[ns]\n",
       "ship_mode                object\n",
       "customer_id              object\n",
       "customer_name            object\n",
       "segment                  object\n",
       "country                  object\n",
       "city                     object\n",
       "state                    object\n",
       "postal_code               int64\n",
       "region                   object\n",
       "product_id               object\n",
       "category                 object\n",
       "sub-category             object\n",
       "product_name             object\n",
       "sales                   float64\n",
       "quantity                  int64\n",
       "discount                float64\n",
       "profit                  float64\n",
       "filename                 object\n",
       "dtype: object"
      ]
     },
     "execution_count": 5,
     "metadata": {},
     "output_type": "execute_result"
    }
   ],
   "source": [
    "master_df.dtypes"
   ]
  },
  {
   "cell_type": "code",
   "execution_count": 6,
   "id": "b69fd539",
   "metadata": {},
   "outputs": [
    {
     "data": {
      "text/plain": [
       "12163"
      ]
     },
     "execution_count": 6,
     "metadata": {},
     "output_type": "execute_result"
    }
   ],
   "source": [
    "master_df.shape[0] - master_df['row_id'].max()"
   ]
  },
  {
   "cell_type": "markdown",
   "id": "950e6ca4",
   "metadata": {},
   "source": [
    "##### File metadata"
   ]
  },
  {
   "cell_type": "code",
   "execution_count": 7,
   "id": "4495787b",
   "metadata": {},
   "outputs": [],
   "source": [
    "date_format = '%Y_%m_%d_%H_%M_%S'\n",
    "master_df['reportid'] = master_df['filename'].apply(lambda x:x.split('_')[0])\n",
    "master_df['create_timestamp'] = master_df['filename'].apply(lambda x:x.split('Orders_')[1].replace('.csv','').strip())\n",
    "master_df['create_timestamp'] = master_df['create_timestamp'].apply(lambda x: datetime.strptime(x, date_format))\n",
    "master_df['file_year'] =  master_df['reportid'].apply(lambda x:x[:4])\n",
    "master_df['file_month'] = master_df['reportid'].apply(lambda x: x[-2:])"
   ]
  },
  {
   "cell_type": "code",
   "execution_count": 8,
   "id": "07927d00",
   "metadata": {},
   "outputs": [
    {
     "data": {
      "text/html": [
       "<div>\n",
       "<style scoped>\n",
       "    .dataframe tbody tr th:only-of-type {\n",
       "        vertical-align: middle;\n",
       "    }\n",
       "\n",
       "    .dataframe tbody tr th {\n",
       "        vertical-align: top;\n",
       "    }\n",
       "\n",
       "    .dataframe thead th {\n",
       "        text-align: right;\n",
       "    }\n",
       "</style>\n",
       "<table border=\"1\" class=\"dataframe\">\n",
       "  <thead>\n",
       "    <tr style=\"text-align: right;\">\n",
       "      <th></th>\n",
       "      <th>reportid</th>\n",
       "      <th>filename</th>\n",
       "    </tr>\n",
       "  </thead>\n",
       "  <tbody>\n",
       "    <tr>\n",
       "      <th>0</th>\n",
       "      <td>201901</td>\n",
       "      <td>2</td>\n",
       "    </tr>\n",
       "    <tr>\n",
       "      <th>1</th>\n",
       "      <td>201902</td>\n",
       "      <td>1</td>\n",
       "    </tr>\n",
       "  </tbody>\n",
       "</table>\n",
       "</div>"
      ],
      "text/plain": [
       "  reportid  filename\n",
       "0   201901         2\n",
       "1   201902         1"
      ]
     },
     "execution_count": 8,
     "metadata": {},
     "output_type": "execute_result"
    }
   ],
   "source": [
    "master_df.groupby(['reportid'], as_index=False)['filename'].nunique().head(2)"
   ]
  },
  {
   "cell_type": "markdown",
   "id": "6f357ee8",
   "metadata": {},
   "source": [
    "##### Get the latest order data from each file "
   ]
  },
  {
   "cell_type": "code",
   "execution_count": 9,
   "id": "b34c9d46",
   "metadata": {},
   "outputs": [
    {
     "name": "stdout",
     "output_type": "stream",
     "text": [
      "number of rows in master dataframe 22157\n",
      "number of orders in master dataframe 5009\n",
      "number of customers in master dataframe 793\n",
      "number of dates in master dataframe 1238\n",
      "total sales in master dataframe 2658880.7933\n"
     ]
    }
   ],
   "source": [
    "print(f\"number of rows in master dataframe {master_df.shape[0]}\")\n",
    "print(f\"number of orders in master dataframe {master_df['order_id'].nunique()}\")\n",
    "print(f\"number of customers in master dataframe {master_df['customer_id'].nunique()}\")\n",
    "print(f\"number of dates in master dataframe {master_df['order_date'].nunique()}\")\n",
    "print(f\"total sales in master dataframe {master_df['sales'].sum()}\")"
   ]
  },
  {
   "cell_type": "code",
   "execution_count": 10,
   "id": "e3539287",
   "metadata": {},
   "outputs": [],
   "source": [
    "### get only the latest updated order data.\n",
    "latest_master_data = master_df.groupby(['order_id'], as_index=False)['create_timestamp'].max()\n",
    "mdf = master_df.merge(latest_master_data, on =['order_id', 'create_timestamp'], how='inner')"
   ]
  },
  {
   "cell_type": "code",
   "execution_count": 11,
   "id": "6d4de82e",
   "metadata": {},
   "outputs": [
    {
     "name": "stdout",
     "output_type": "stream",
     "text": [
      "number of rows in mdf dataframe 9994\n",
      "number of orders in mdf dataframe 5009\n",
      "number of customers in mdf dataframe 793\n",
      "number of dates in mdf dataframe 1238\n",
      "total sales in mdf dataframe 2297200.8603000003\n"
     ]
    }
   ],
   "source": [
    "print(f\"number of rows in mdf dataframe {mdf.shape[0]}\")\n",
    "print(f\"number of orders in mdf dataframe {mdf['order_id'].nunique()}\")\n",
    "print(f\"number of customers in mdf dataframe {mdf['customer_id'].nunique()}\")\n",
    "print(f\"number of dates in mdf dataframe {mdf['order_date'].nunique()}\")\n",
    "print(f\"total sales in mdf dataframe {mdf['sales'].sum()}\")"
   ]
  },
  {
   "cell_type": "code",
   "execution_count": 12,
   "id": "d315c429",
   "metadata": {},
   "outputs": [
    {
     "data": {
      "text/plain": [
       "(9994, 26)"
      ]
     },
     "execution_count": 12,
     "metadata": {},
     "output_type": "execute_result"
    }
   ],
   "source": [
    "mdf.shape"
   ]
  },
  {
   "cell_type": "markdown",
   "id": "7de958df",
   "metadata": {},
   "source": [
    "Duplicated order_id and product_id"
   ]
  },
  {
   "cell_type": "code",
   "execution_count": 13,
   "id": "48d083be",
   "metadata": {},
   "outputs": [
    {
     "data": {
      "text/plain": [
       "8"
      ]
     },
     "execution_count": 13,
     "metadata": {},
     "output_type": "execute_result"
    }
   ],
   "source": [
    "mdf[mdf.duplicated(subset= ['order_id', 'order_date', 'ship_date', 'ship_mode',\n",
    "       'customer_id', 'customer_name', 'segment', 'country', 'city', 'state',\n",
    "       'postal_code', 'region', 'product_id', 'category', 'sub-category',\n",
    "       'product_name', 'filename',\n",
    "       'reportid', 'create_timestamp', 'file_year', 'file_month'])]['row_id'].nunique()"
   ]
  },
  {
   "cell_type": "markdown",
   "id": "7c71fdbe",
   "metadata": {},
   "source": [
    "##### Checking columns"
   ]
  },
  {
   "cell_type": "markdown",
   "id": "bda1427a",
   "metadata": {},
   "source": [
    "Row ID"
   ]
  },
  {
   "cell_type": "code",
   "execution_count": 14,
   "id": "253c13fa",
   "metadata": {},
   "outputs": [
    {
     "name": "stdout",
     "output_type": "stream",
     "text": [
      "9994\n"
     ]
    }
   ],
   "source": [
    "print(mdf['row_id'].nunique())"
   ]
  },
  {
   "cell_type": "markdown",
   "id": "f5100152",
   "metadata": {},
   "source": [
    "Order ID"
   ]
  },
  {
   "cell_type": "code",
   "execution_count": 15,
   "id": "33618b23",
   "metadata": {},
   "outputs": [],
   "source": [
    "## all order_id has length of 14\n",
    "mdf['order_id'].apply(lambda x:len(x)).unique()\n",
    "mdf['order_id_prefix'] = mdf['order_id'].apply(lambda x: x.split('-')[0])\n",
    "mdf['order_id_year'] = mdf['order_id'].apply(lambda x: x.split('-')[1])"
   ]
  },
  {
   "cell_type": "code",
   "execution_count": 16,
   "id": "1fff4de7",
   "metadata": {},
   "outputs": [
    {
     "data": {
      "text/html": [
       "<div>\n",
       "<style scoped>\n",
       "    .dataframe tbody tr th:only-of-type {\n",
       "        vertical-align: middle;\n",
       "    }\n",
       "\n",
       "    .dataframe tbody tr th {\n",
       "        vertical-align: top;\n",
       "    }\n",
       "\n",
       "    .dataframe thead th {\n",
       "        text-align: right;\n",
       "    }\n",
       "</style>\n",
       "<table border=\"1\" class=\"dataframe\">\n",
       "  <thead>\n",
       "    <tr style=\"text-align: right;\">\n",
       "      <th></th>\n",
       "      <th>row_id</th>\n",
       "      <th>order_id</th>\n",
       "      <th>order_date</th>\n",
       "      <th>ship_date</th>\n",
       "      <th>ship_mode</th>\n",
       "      <th>customer_id</th>\n",
       "      <th>customer_name</th>\n",
       "      <th>segment</th>\n",
       "      <th>country</th>\n",
       "      <th>city</th>\n",
       "      <th>...</th>\n",
       "      <th>quantity</th>\n",
       "      <th>discount</th>\n",
       "      <th>profit</th>\n",
       "      <th>filename</th>\n",
       "      <th>reportid</th>\n",
       "      <th>create_timestamp</th>\n",
       "      <th>file_year</th>\n",
       "      <th>file_month</th>\n",
       "      <th>order_id_prefix</th>\n",
       "      <th>order_id_year</th>\n",
       "    </tr>\n",
       "  </thead>\n",
       "  <tbody>\n",
       "  </tbody>\n",
       "</table>\n",
       "<p>0 rows × 28 columns</p>\n",
       "</div>"
      ],
      "text/plain": [
       "Empty DataFrame\n",
       "Columns: [row_id, order_id, order_date, ship_date, ship_mode, customer_id, customer_name, segment, country, city, state, postal_code, region, product_id, category, sub-category, product_name, sales, quantity, discount, profit, filename, reportid, create_timestamp, file_year, file_month, order_id_prefix, order_id_year]\n",
       "Index: []\n",
       "\n",
       "[0 rows x 28 columns]"
      ]
     },
     "execution_count": 16,
     "metadata": {},
     "output_type": "execute_result"
    }
   ],
   "source": [
    "mdf[mdf['file_year'] != mdf['order_id_year']]"
   ]
  },
  {
   "cell_type": "code",
   "execution_count": 17,
   "id": "d7d25a32",
   "metadata": {},
   "outputs": [
    {
     "data": {
      "text/html": [
       "<div>\n",
       "<style scoped>\n",
       "    .dataframe tbody tr th:only-of-type {\n",
       "        vertical-align: middle;\n",
       "    }\n",
       "\n",
       "    .dataframe tbody tr th {\n",
       "        vertical-align: top;\n",
       "    }\n",
       "\n",
       "    .dataframe thead th {\n",
       "        text-align: right;\n",
       "    }\n",
       "</style>\n",
       "<table border=\"1\" class=\"dataframe\">\n",
       "  <thead>\n",
       "    <tr style=\"text-align: right;\">\n",
       "      <th></th>\n",
       "      <th>order_id</th>\n",
       "      <th>order_date</th>\n",
       "      <th>customer_id</th>\n",
       "      <th>product_id</th>\n",
       "    </tr>\n",
       "    <tr>\n",
       "      <th>order_id_prefix</th>\n",
       "      <th></th>\n",
       "      <th></th>\n",
       "      <th></th>\n",
       "      <th></th>\n",
       "    </tr>\n",
       "  </thead>\n",
       "  <tbody>\n",
       "    <tr>\n",
       "      <th>CA</th>\n",
       "      <td>4195</td>\n",
       "      <td>2019-01-02</td>\n",
       "      <td>791</td>\n",
       "      <td>1867</td>\n",
       "    </tr>\n",
       "    <tr>\n",
       "      <th>US</th>\n",
       "      <td>814</td>\n",
       "      <td>2019-01-03</td>\n",
       "      <td>507</td>\n",
       "      <td>1110</td>\n",
       "    </tr>\n",
       "  </tbody>\n",
       "</table>\n",
       "</div>"
      ],
      "text/plain": [
       "                 order_id order_date  customer_id  product_id\n",
       "order_id_prefix                                              \n",
       "CA                   4195 2019-01-02          791        1867\n",
       "US                    814 2019-01-03          507        1110"
      ]
     },
     "execution_count": 17,
     "metadata": {},
     "output_type": "execute_result"
    }
   ],
   "source": [
    "mdf.groupby(['order_id_prefix']).agg({\n",
    "    'order_id' :'nunique',\n",
    "    'order_date' : 'min',\n",
    "    'customer_id' :'nunique',\n",
    "    'product_id' :'nunique'})"
   ]
  },
  {
   "cell_type": "markdown",
   "id": "dba5e86e",
   "metadata": {},
   "source": [
    "Dates (order_date, ship_date) and ship_mode"
   ]
  },
  {
   "cell_type": "code",
   "execution_count": 18,
   "id": "7b060c32",
   "metadata": {},
   "outputs": [],
   "source": [
    "mdf['delivery_days_diff'] = (mdf['ship_date'] - mdf['order_date']).dt.days"
   ]
  },
  {
   "cell_type": "code",
   "execution_count": 19,
   "id": "03715d4b",
   "metadata": {},
   "outputs": [
    {
     "name": "stdout",
     "output_type": "stream",
     "text": [
      "min order_date 2019-01-02 00:00:00\n",
      "max order_date 2022-12-31 00:00:00\n",
      "===========================================\n",
      "min ship_date 2019-01-02 00:00:00\n",
      "max ship_date 2023-06-01 00:00:00\n",
      "===========================================\n",
      "Case-1 : illogical  records, ship date before order creation date\n",
      "909 unique order from 534 customer with total records of 1781 \n"
     ]
    }
   ],
   "source": [
    "print(f\"min order_date {mdf['order_date'].min()}\")\n",
    "print(f\"max order_date {mdf['order_date'].max()}\")\n",
    "print(\"===========================================\")\n",
    "print(f\"min ship_date {mdf['ship_date'].min()}\")\n",
    "print(f\"max ship_date {mdf['ship_date'].max()}\")\n",
    "print(\"===========================================\")\n",
    "## checked that every order has only one order_date and one ship date\n",
    "print(f\"Case-1 : illogical  records, ship date before order creation date\")\n",
    "unprocessed_records_1 = mdf[mdf['order_date'] > mdf['ship_date']][['row_id', 'order_id', 'customer_id']]\n",
    "unprocessed_records_1['reason'] = 'illogical  records, ship date before order creation date'\n",
    "unprocessed_records_1['solution'] = 'check with business users why this happens, and apply validation criteria on source'\n",
    "print(f\"\"\"{unprocessed_records_1['order_id'].nunique()} unique order from {unprocessed_records_1['customer_id'].nunique()} customer with total records of {unprocessed_records_1.shape[0]} \"\"\")"
   ]
  },
  {
   "cell_type": "markdown",
   "id": "33841cec",
   "metadata": {},
   "source": [
    "ship_mode "
   ]
  },
  {
   "cell_type": "code",
   "execution_count": 20,
   "id": "afca5670",
   "metadata": {},
   "outputs": [
    {
     "name": "stdout",
     "output_type": "stream",
     "text": [
      "value of ship_mode for orders where order_date = ship_date : ['Same Day']\n",
      "put ranges for each ship_mode with business users and implement validation check that dates dont break these ranges for each ship_mode\n"
     ]
    }
   ],
   "source": [
    "print(f\"value of ship_mode for orders where order_date = ship_date : {mdf[mdf['order_date'] == mdf['ship_date']]['ship_mode'].unique()}\")\n",
    "print(f\"put ranges for each ship_mode with business users and implement validation check that dates dont break these ranges for each ship_mode\")\n",
    "unprocessed_records_2 = mdf[(mdf['ship_mode'] == 'Same Day') & (mdf['delivery_days_diff'] > 0)][['row_id', 'order_id', 'customer_id']]\n",
    "unprocessed_records_2['reason'] = 'ship_mode not aligned with delievery_date_diff'\n",
    "unprocessed_records_2['solution'] = 'define ranges for each ship_mode with business users'"
   ]
  },
  {
   "cell_type": "code",
   "execution_count": 21,
   "id": "e2d54cdb",
   "metadata": {},
   "outputs": [
    {
     "data": {
      "text/html": [
       "<div>\n",
       "<style scoped>\n",
       "    .dataframe tbody tr th:only-of-type {\n",
       "        vertical-align: middle;\n",
       "    }\n",
       "\n",
       "    .dataframe tbody tr th {\n",
       "        vertical-align: top;\n",
       "    }\n",
       "\n",
       "    .dataframe thead th {\n",
       "        text-align: right;\n",
       "    }\n",
       "</style>\n",
       "<table border=\"1\" class=\"dataframe\">\n",
       "  <thead>\n",
       "    <tr style=\"text-align: right;\">\n",
       "      <th></th>\n",
       "      <th>count</th>\n",
       "      <th>mean</th>\n",
       "      <th>std</th>\n",
       "      <th>min</th>\n",
       "      <th>25%</th>\n",
       "      <th>50%</th>\n",
       "      <th>75%</th>\n",
       "      <th>max</th>\n",
       "    </tr>\n",
       "    <tr>\n",
       "      <th>ship_mode</th>\n",
       "      <th></th>\n",
       "      <th></th>\n",
       "      <th></th>\n",
       "      <th></th>\n",
       "      <th></th>\n",
       "      <th></th>\n",
       "      <th></th>\n",
       "      <th></th>\n",
       "    </tr>\n",
       "  </thead>\n",
       "  <tbody>\n",
       "    <tr>\n",
       "      <th>First Class</th>\n",
       "      <td>1354.0</td>\n",
       "      <td>25.773264</td>\n",
       "      <td>33.017738</td>\n",
       "      <td>1.0</td>\n",
       "      <td>2.0</td>\n",
       "      <td>3.0</td>\n",
       "      <td>60.0</td>\n",
       "      <td>92.0</td>\n",
       "    </tr>\n",
       "    <tr>\n",
       "      <th>Same Day</th>\n",
       "      <td>535.0</td>\n",
       "      <td>0.588785</td>\n",
       "      <td>4.188788</td>\n",
       "      <td>0.0</td>\n",
       "      <td>0.0</td>\n",
       "      <td>0.0</td>\n",
       "      <td>0.0</td>\n",
       "      <td>31.0</td>\n",
       "    </tr>\n",
       "    <tr>\n",
       "      <th>Second Class</th>\n",
       "      <td>1671.0</td>\n",
       "      <td>35.482346</td>\n",
       "      <td>48.278925</td>\n",
       "      <td>2.0</td>\n",
       "      <td>2.0</td>\n",
       "      <td>4.0</td>\n",
       "      <td>61.0</td>\n",
       "      <td>153.0</td>\n",
       "    </tr>\n",
       "    <tr>\n",
       "      <th>Standard Class</th>\n",
       "      <td>4653.0</td>\n",
       "      <td>52.927144</td>\n",
       "      <td>66.039626</td>\n",
       "      <td>4.0</td>\n",
       "      <td>4.0</td>\n",
       "      <td>6.0</td>\n",
       "      <td>122.0</td>\n",
       "      <td>214.0</td>\n",
       "    </tr>\n",
       "  </tbody>\n",
       "</table>\n",
       "</div>"
      ],
      "text/plain": [
       "                 count       mean        std  min  25%  50%    75%    max\n",
       "ship_mode                                                                \n",
       "First Class     1354.0  25.773264  33.017738  1.0  2.0  3.0   60.0   92.0\n",
       "Same Day         535.0   0.588785   4.188788  0.0  0.0  0.0    0.0   31.0\n",
       "Second Class    1671.0  35.482346  48.278925  2.0  2.0  4.0   61.0  153.0\n",
       "Standard Class  4653.0  52.927144  66.039626  4.0  4.0  6.0  122.0  214.0"
      ]
     },
     "execution_count": 21,
     "metadata": {},
     "output_type": "execute_result"
    }
   ],
   "source": [
    "mdf[mdf['delivery_days_diff'] >= 0].groupby('ship_mode')['delivery_days_diff'].describe()"
   ]
  },
  {
   "cell_type": "code",
   "execution_count": 22,
   "id": "9c29c332",
   "metadata": {},
   "outputs": [
    {
     "data": {
      "text/plain": [
       "16"
      ]
     },
     "execution_count": 22,
     "metadata": {},
     "output_type": "execute_result"
    }
   ],
   "source": [
    "mdf[(mdf['ship_mode'] == 'Same Day') & (mdf['delivery_days_diff'] > 0)]['row_id'].nunique()"
   ]
  },
  {
   "cell_type": "code",
   "execution_count": 23,
   "id": "e7e049b0",
   "metadata": {},
   "outputs": [],
   "source": [
    "# mdf[(mdf['ship_mode'] == 'First Class') & (mdf['delivery_days_diff'] >= 0)]['delivery_days_diff'].value_counts()\n",
    "### some orders might take more than 3 months to be delivered.\n",
    "# mdf[mdf['delivery_days_diff'] > 90]['ship_mode'].unique()"
   ]
  },
  {
   "cell_type": "markdown",
   "id": "3518f8e5",
   "metadata": {},
   "source": [
    "#### Dates"
   ]
  },
  {
   "cell_type": "code",
   "execution_count": 24,
   "id": "0ab97dbc",
   "metadata": {},
   "outputs": [],
   "source": [
    "def generate_date_series(start_date, end_date):\n",
    "    dt_idx = pd.date_range(start=start_date, end=end_date)\n",
    "    ts_df = pd.DataFrame(dt_idx, columns = ['date'])\n",
    "    ts_df['year'] = ts_df['date'].dt.isocalendar().year\n",
    "    ts_df['month'] = ts_df['date'].dt.month\n",
    "    ts_df['day'] = ts_df['date'].dt.day\n",
    "    ts_df['week'] = ts_df['date'].dt.isocalendar().week\n",
    "    ts_df['month_name'] = ts_df['date'].dt.month_name()\n",
    "    ts_df['week_day'] = ts_df['date'].dt.dayofweek\n",
    "    ts_df['is_weekend'] =  ts_df.apply(lambda x : x['week_day'] > 4, axis=1)\n",
    "    ts_df['weekday_name'] = ts_df['date'].dt.day_name()\n",
    "    ts_df['year_day'] = ts_df['date'].dt.dayofyear\n",
    "    return ts_df"
   ]
  },
  {
   "cell_type": "code",
   "execution_count": 25,
   "id": "23764fa2",
   "metadata": {},
   "outputs": [],
   "source": [
    "date_df = generate_date_series(mdf['order_date'].min(),mdf['order_date'].max())"
   ]
  },
  {
   "cell_type": "code",
   "execution_count": 26,
   "id": "fdd205ae",
   "metadata": {},
   "outputs": [],
   "source": [
    "# date_df.to_csv('dates.csv', index=False)"
   ]
  },
  {
   "cell_type": "markdown",
   "id": "ce3c7551",
   "metadata": {},
   "source": [
    "pattern for missing days?"
   ]
  },
  {
   "cell_type": "code",
   "execution_count": 27,
   "id": "8e6a1f08",
   "metadata": {},
   "outputs": [],
   "source": [
    "d1 = pd.merge(mdf, date_df, left_on='order_date',right_on ='date', how='right')\n",
    "no_sales_days = d1[d1['sales'].isna()]"
   ]
  },
  {
   "cell_type": "code",
   "execution_count": 28,
   "id": "3a12dcc7",
   "metadata": {},
   "outputs": [
    {
     "data": {
      "text/plain": [
       "Wednesday    98\n",
       "Tuesday      37\n",
       "Saturday     23\n",
       "Friday       18\n",
       "Thursday     18\n",
       "Monday       15\n",
       "Sunday       13\n",
       "Name: weekday_name, dtype: int64"
      ]
     },
     "execution_count": 28,
     "metadata": {},
     "output_type": "execute_result"
    }
   ],
   "source": [
    "no_sales_days['weekday_name'].value_counts()"
   ]
  },
  {
   "cell_type": "markdown",
   "id": "35cbc8d2",
   "metadata": {},
   "source": [
    "- Product_ID has multiple names\n",
    "- Product name has multiple IDs"
   ]
  },
  {
   "cell_type": "code",
   "execution_count": 29,
   "id": "adebb16a",
   "metadata": {},
   "outputs": [],
   "source": [
    "t2 = mdf.groupby(['product_id'], as_index=False)['product_name'].nunique()\n",
    "diff_name_product_id = t2[t2['product_name'] > 1]['product_id'].unique()\n",
    "t3 = mdf.groupby(['product_name'], as_index=False)['product_id'].nunique()\n",
    "diff_id_product_name = t3[t3['product_id'] > 1]['product_name'].unique()"
   ]
  },
  {
   "cell_type": "code",
   "execution_count": 30,
   "id": "73a678e1",
   "metadata": {},
   "outputs": [
    {
     "data": {
      "text/plain": [
       "379"
      ]
     },
     "execution_count": 30,
     "metadata": {},
     "output_type": "execute_result"
    }
   ],
   "source": [
    "mdf[(mdf['product_id'].isin(diff_name_product_id)) | (mdf['product_name'].isin(diff_id_product_name))]['row_id'].nunique()"
   ]
  },
  {
   "cell_type": "markdown",
   "id": "e3fffe66",
   "metadata": {},
   "source": [
    "##### Customers \n",
    "- Customers have multiple delivery addresses, two tables one for customer information and the other for the addresses at specific point of time"
   ]
  },
  {
   "cell_type": "code",
   "execution_count": 31,
   "id": "05417455",
   "metadata": {},
   "outputs": [],
   "source": [
    "cust_address_df = mdf.groupby(['customer_id', 'country', 'city', 'state', 'postal_code', 'region'], as_index=False).agg(\n",
    "    start_dt = pd.NamedAgg('order_date','min'))"
   ]
  },
  {
   "cell_type": "code",
   "execution_count": 32,
   "id": "ee628db3",
   "metadata": {},
   "outputs": [],
   "source": [
    "cust_address_df['start_dt'] = pd.to_datetime(cust_address_df['start_dt']).dt.date\n",
    "cust_address_df = cust_address_df.sort_values(['customer_id','start_dt'], ascending=[True,True])\n",
    "cust_address_df['end_dt'] = cust_address_df.groupby(['customer_id'])['start_dt'].shift(-1)\n",
    "cust_address_df['is_active'] = False\n",
    "cust_address_df.loc[cust_address_df['end_dt'].isnull(), 'is_active'] = True"
   ]
  },
  {
   "cell_type": "code",
   "execution_count": 33,
   "id": "73165766",
   "metadata": {},
   "outputs": [
    {
     "data": {
      "text/plain": [
       "Index(['customer_id', 'country', 'city', 'state', 'postal_code', 'region',\n",
       "       'start_dt', 'end_dt', 'is_active'],\n",
       "      dtype='object')"
      ]
     },
     "execution_count": 33,
     "metadata": {},
     "output_type": "execute_result"
    }
   ],
   "source": [
    "cust_address_df.columns"
   ]
  },
  {
   "cell_type": "code",
   "execution_count": 34,
   "id": "717dddb9",
   "metadata": {},
   "outputs": [],
   "source": [
    "cust_df = mdf.groupby(['customer_id'], as_index=False).agg({'customer_name':'first', 'segment':'first'})"
   ]
  },
  {
   "cell_type": "code",
   "execution_count": 35,
   "id": "54750819",
   "metadata": {},
   "outputs": [],
   "source": [
    "# cust_address_df.to_csv('customer_addresses.csv', index=False)\n",
    "# cust_df.to_csv('customers.csv', index=False)"
   ]
  },
  {
   "cell_type": "code",
   "execution_count": 36,
   "id": "b2403055",
   "metadata": {},
   "outputs": [],
   "source": [
    "df1 = mdf[['order_id', 'order_date', 'ship_date', 'customer_id']]"
   ]
  },
  {
   "cell_type": "code",
   "execution_count": 37,
   "id": "8230096d",
   "metadata": {},
   "outputs": [],
   "source": [
    "df2 = df1.merge(cust_address_df, on =['customer_id'])\n",
    "df2 = df2[((df2['order_date'] >= df2['start_dt']) & (df2['order_date'] < df2['end_dt'])) | ((df2['order_date'] >= df2['start_dt']) & (df2['is_active']))]\n",
    "df2.drop(columns = ['start_dt', 'end_dt'], inplace = True)"
   ]
  },
  {
   "cell_type": "code",
   "execution_count": 38,
   "id": "6dd683e8",
   "metadata": {},
   "outputs": [
    {
     "data": {
      "text/html": [
       "<div>\n",
       "<style scoped>\n",
       "    .dataframe tbody tr th:only-of-type {\n",
       "        vertical-align: middle;\n",
       "    }\n",
       "\n",
       "    .dataframe tbody tr th {\n",
       "        vertical-align: top;\n",
       "    }\n",
       "\n",
       "    .dataframe thead th {\n",
       "        text-align: right;\n",
       "    }\n",
       "</style>\n",
       "<table border=\"1\" class=\"dataframe\">\n",
       "  <thead>\n",
       "    <tr style=\"text-align: right;\">\n",
       "      <th></th>\n",
       "      <th>order_id</th>\n",
       "      <th>order_date</th>\n",
       "      <th>ship_date</th>\n",
       "      <th>customer_id</th>\n",
       "      <th>country</th>\n",
       "      <th>city</th>\n",
       "      <th>state</th>\n",
       "      <th>postal_code</th>\n",
       "      <th>region</th>\n",
       "      <th>is_active</th>\n",
       "      <th>customer_name</th>\n",
       "      <th>segment</th>\n",
       "    </tr>\n",
       "  </thead>\n",
       "  <tbody>\n",
       "    <tr>\n",
       "      <th>0</th>\n",
       "      <td>CA-2019-103800</td>\n",
       "      <td>2019-04-01</td>\n",
       "      <td>2019-08-01</td>\n",
       "      <td>DP-13000</td>\n",
       "      <td>United States</td>\n",
       "      <td>Houston</td>\n",
       "      <td>Texas</td>\n",
       "      <td>77095</td>\n",
       "      <td>Central</td>\n",
       "      <td>False</td>\n",
       "      <td>Darren Powers</td>\n",
       "      <td>Consumer</td>\n",
       "    </tr>\n",
       "    <tr>\n",
       "      <th>1</th>\n",
       "      <td>CA-2019-122609</td>\n",
       "      <td>2019-12-11</td>\n",
       "      <td>2019-11-18</td>\n",
       "      <td>DP-13000</td>\n",
       "      <td>United States</td>\n",
       "      <td>Carrollton</td>\n",
       "      <td>Texas</td>\n",
       "      <td>75007</td>\n",
       "      <td>Central</td>\n",
       "      <td>False</td>\n",
       "      <td>Darren Powers</td>\n",
       "      <td>Consumer</td>\n",
       "    </tr>\n",
       "    <tr>\n",
       "      <th>2</th>\n",
       "      <td>CA-2019-122609</td>\n",
       "      <td>2019-12-11</td>\n",
       "      <td>2019-11-18</td>\n",
       "      <td>DP-13000</td>\n",
       "      <td>United States</td>\n",
       "      <td>Carrollton</td>\n",
       "      <td>Texas</td>\n",
       "      <td>75007</td>\n",
       "      <td>Central</td>\n",
       "      <td>False</td>\n",
       "      <td>Darren Powers</td>\n",
       "      <td>Consumer</td>\n",
       "    </tr>\n",
       "    <tr>\n",
       "      <th>3</th>\n",
       "      <td>CA-2020-115742</td>\n",
       "      <td>2020-04-18</td>\n",
       "      <td>2020-04-22</td>\n",
       "      <td>DP-13000</td>\n",
       "      <td>United States</td>\n",
       "      <td>New Albany</td>\n",
       "      <td>Indiana</td>\n",
       "      <td>47150</td>\n",
       "      <td>Central</td>\n",
       "      <td>False</td>\n",
       "      <td>Darren Powers</td>\n",
       "      <td>Consumer</td>\n",
       "    </tr>\n",
       "    <tr>\n",
       "      <th>4</th>\n",
       "      <td>CA-2020-115742</td>\n",
       "      <td>2020-04-18</td>\n",
       "      <td>2020-04-22</td>\n",
       "      <td>DP-13000</td>\n",
       "      <td>United States</td>\n",
       "      <td>New Albany</td>\n",
       "      <td>Indiana</td>\n",
       "      <td>47150</td>\n",
       "      <td>Central</td>\n",
       "      <td>False</td>\n",
       "      <td>Darren Powers</td>\n",
       "      <td>Consumer</td>\n",
       "    </tr>\n",
       "    <tr>\n",
       "      <th>...</th>\n",
       "      <td>...</td>\n",
       "      <td>...</td>\n",
       "      <td>...</td>\n",
       "      <td>...</td>\n",
       "      <td>...</td>\n",
       "      <td>...</td>\n",
       "      <td>...</td>\n",
       "      <td>...</td>\n",
       "      <td>...</td>\n",
       "      <td>...</td>\n",
       "      <td>...</td>\n",
       "      <td>...</td>\n",
       "    </tr>\n",
       "    <tr>\n",
       "      <th>9989</th>\n",
       "      <td>US-2022-132444</td>\n",
       "      <td>2022-11-19</td>\n",
       "      <td>2022-11-22</td>\n",
       "      <td>CD-12280</td>\n",
       "      <td>United States</td>\n",
       "      <td>Seattle</td>\n",
       "      <td>Washington</td>\n",
       "      <td>98105</td>\n",
       "      <td>West</td>\n",
       "      <td>True</td>\n",
       "      <td>Christina DeMoss</td>\n",
       "      <td>Consumer</td>\n",
       "    </tr>\n",
       "    <tr>\n",
       "      <th>9990</th>\n",
       "      <td>US-2022-132444</td>\n",
       "      <td>2022-11-19</td>\n",
       "      <td>2022-11-22</td>\n",
       "      <td>CD-12280</td>\n",
       "      <td>United States</td>\n",
       "      <td>Seattle</td>\n",
       "      <td>Washington</td>\n",
       "      <td>98105</td>\n",
       "      <td>West</td>\n",
       "      <td>True</td>\n",
       "      <td>Christina DeMoss</td>\n",
       "      <td>Consumer</td>\n",
       "    </tr>\n",
       "    <tr>\n",
       "      <th>9991</th>\n",
       "      <td>US-2022-132444</td>\n",
       "      <td>2022-11-19</td>\n",
       "      <td>2022-11-22</td>\n",
       "      <td>CD-12280</td>\n",
       "      <td>United States</td>\n",
       "      <td>Seattle</td>\n",
       "      <td>Washington</td>\n",
       "      <td>98105</td>\n",
       "      <td>West</td>\n",
       "      <td>True</td>\n",
       "      <td>Christina DeMoss</td>\n",
       "      <td>Consumer</td>\n",
       "    </tr>\n",
       "    <tr>\n",
       "      <th>9992</th>\n",
       "      <td>US-2022-132444</td>\n",
       "      <td>2022-11-19</td>\n",
       "      <td>2022-11-22</td>\n",
       "      <td>CD-12280</td>\n",
       "      <td>United States</td>\n",
       "      <td>Seattle</td>\n",
       "      <td>Washington</td>\n",
       "      <td>98105</td>\n",
       "      <td>West</td>\n",
       "      <td>True</td>\n",
       "      <td>Christina DeMoss</td>\n",
       "      <td>Consumer</td>\n",
       "    </tr>\n",
       "    <tr>\n",
       "      <th>9993</th>\n",
       "      <td>US-2022-132444</td>\n",
       "      <td>2022-11-19</td>\n",
       "      <td>2022-11-22</td>\n",
       "      <td>CD-12280</td>\n",
       "      <td>United States</td>\n",
       "      <td>Seattle</td>\n",
       "      <td>Washington</td>\n",
       "      <td>98105</td>\n",
       "      <td>West</td>\n",
       "      <td>True</td>\n",
       "      <td>Christina DeMoss</td>\n",
       "      <td>Consumer</td>\n",
       "    </tr>\n",
       "  </tbody>\n",
       "</table>\n",
       "<p>9994 rows × 12 columns</p>\n",
       "</div>"
      ],
      "text/plain": [
       "            order_id order_date  ship_date customer_id        country  \\\n",
       "0     CA-2019-103800 2019-04-01 2019-08-01    DP-13000  United States   \n",
       "1     CA-2019-122609 2019-12-11 2019-11-18    DP-13000  United States   \n",
       "2     CA-2019-122609 2019-12-11 2019-11-18    DP-13000  United States   \n",
       "3     CA-2020-115742 2020-04-18 2020-04-22    DP-13000  United States   \n",
       "4     CA-2020-115742 2020-04-18 2020-04-22    DP-13000  United States   \n",
       "...              ...        ...        ...         ...            ...   \n",
       "9989  US-2022-132444 2022-11-19 2022-11-22    CD-12280  United States   \n",
       "9990  US-2022-132444 2022-11-19 2022-11-22    CD-12280  United States   \n",
       "9991  US-2022-132444 2022-11-19 2022-11-22    CD-12280  United States   \n",
       "9992  US-2022-132444 2022-11-19 2022-11-22    CD-12280  United States   \n",
       "9993  US-2022-132444 2022-11-19 2022-11-22    CD-12280  United States   \n",
       "\n",
       "            city       state  postal_code   region  is_active  \\\n",
       "0        Houston       Texas        77095  Central      False   \n",
       "1     Carrollton       Texas        75007  Central      False   \n",
       "2     Carrollton       Texas        75007  Central      False   \n",
       "3     New Albany     Indiana        47150  Central      False   \n",
       "4     New Albany     Indiana        47150  Central      False   \n",
       "...          ...         ...          ...      ...        ...   \n",
       "9989     Seattle  Washington        98105     West       True   \n",
       "9990     Seattle  Washington        98105     West       True   \n",
       "9991     Seattle  Washington        98105     West       True   \n",
       "9992     Seattle  Washington        98105     West       True   \n",
       "9993     Seattle  Washington        98105     West       True   \n",
       "\n",
       "         customer_name   segment  \n",
       "0        Darren Powers  Consumer  \n",
       "1        Darren Powers  Consumer  \n",
       "2        Darren Powers  Consumer  \n",
       "3        Darren Powers  Consumer  \n",
       "4        Darren Powers  Consumer  \n",
       "...                ...       ...  \n",
       "9989  Christina DeMoss  Consumer  \n",
       "9990  Christina DeMoss  Consumer  \n",
       "9991  Christina DeMoss  Consumer  \n",
       "9992  Christina DeMoss  Consumer  \n",
       "9993  Christina DeMoss  Consumer  \n",
       "\n",
       "[9994 rows x 12 columns]"
      ]
     },
     "execution_count": 38,
     "metadata": {},
     "output_type": "execute_result"
    }
   ],
   "source": [
    "df2.merge(cust_df, on='customer_id', how='left')"
   ]
  },
  {
   "cell_type": "markdown",
   "id": "c643ce7b",
   "metadata": {},
   "source": [
    "##### products"
   ]
  },
  {
   "cell_type": "code",
   "execution_count": 39,
   "id": "292f671c",
   "metadata": {},
   "outputs": [],
   "source": [
    "t1 = mdf.groupby(['product_id'], as_index=False).agg({'product_name':'nunique'})\n",
    "t2 = mdf.groupby(['product_name'], as_index=False).agg({'product_id':'nunique'})"
   ]
  },
  {
   "cell_type": "code",
   "execution_count": 40,
   "id": "a87da4b4",
   "metadata": {},
   "outputs": [
    {
     "data": {
      "text/html": [
       "<div>\n",
       "<style scoped>\n",
       "    .dataframe tbody tr th:only-of-type {\n",
       "        vertical-align: middle;\n",
       "    }\n",
       "\n",
       "    .dataframe tbody tr th {\n",
       "        vertical-align: top;\n",
       "    }\n",
       "\n",
       "    .dataframe thead th {\n",
       "        text-align: right;\n",
       "    }\n",
       "</style>\n",
       "<table border=\"1\" class=\"dataframe\">\n",
       "  <thead>\n",
       "    <tr style=\"text-align: right;\">\n",
       "      <th></th>\n",
       "      <th>product_id</th>\n",
       "      <th>product_name</th>\n",
       "    </tr>\n",
       "  </thead>\n",
       "  <tbody>\n",
       "    <tr>\n",
       "      <th>18</th>\n",
       "      <td>FUR-BO-10002213</td>\n",
       "      <td>2</td>\n",
       "    </tr>\n",
       "    <tr>\n",
       "      <th>65</th>\n",
       "      <td>FUR-CH-10001146</td>\n",
       "      <td>2</td>\n",
       "    </tr>\n",
       "    <tr>\n",
       "      <th>183</th>\n",
       "      <td>FUR-FU-10001473</td>\n",
       "      <td>2</td>\n",
       "    </tr>\n",
       "    <tr>\n",
       "      <th>284</th>\n",
       "      <td>FUR-FU-10004017</td>\n",
       "      <td>2</td>\n",
       "    </tr>\n",
       "    <tr>\n",
       "      <th>290</th>\n",
       "      <td>FUR-FU-10004091</td>\n",
       "      <td>2</td>\n",
       "    </tr>\n",
       "  </tbody>\n",
       "</table>\n",
       "</div>"
      ],
      "text/plain": [
       "          product_id  product_name\n",
       "18   FUR-BO-10002213             2\n",
       "65   FUR-CH-10001146             2\n",
       "183  FUR-FU-10001473             2\n",
       "284  FUR-FU-10004017             2\n",
       "290  FUR-FU-10004091             2"
      ]
     },
     "execution_count": 40,
     "metadata": {},
     "output_type": "execute_result"
    }
   ],
   "source": [
    "t1[(t1['product_name'] > 1)]"
   ]
  },
  {
   "cell_type": "code",
   "execution_count": 41,
   "id": "d774e1ae",
   "metadata": {},
   "outputs": [],
   "source": [
    "## could need different category creation\n",
    "product_df = mdf.groupby('product_id', as_index=False).agg(\n",
    "    category = pd.NamedAgg('category','first'),\n",
    "    subcategory = pd.NamedAgg('sub-category','first'),\n",
    "    product_name = pd.NamedAgg('product_name','first'),\n",
    "    product_name_ct = pd.NamedAgg('product_name','nunique'),\n",
    "    product_name_list = pd.NamedAgg('product_name','unique'))"
   ]
  },
  {
   "cell_type": "code",
   "execution_count": 42,
   "id": "f1b92c85",
   "metadata": {},
   "outputs": [],
   "source": [
    "unprocessed_product_ids = product_df[product_df['product_name_ct'] > 1]['product_id'].unique()\n",
    "### removed from product_df but remove orders from master also\n",
    "product_df = product_df[~product_df['product_id'].isin(unprocessed_product_ids)]"
   ]
  },
  {
   "cell_type": "code",
   "execution_count": 43,
   "id": "f65dbd3d",
   "metadata": {},
   "outputs": [
    {
     "data": {
      "text/plain": [
       "Index(['product_id', 'category', 'subcategory', 'product_name',\n",
       "       'product_name_ct', 'product_name_list'],\n",
       "      dtype='object')"
      ]
     },
     "execution_count": 43,
     "metadata": {},
     "output_type": "execute_result"
    }
   ],
   "source": [
    "product_df.columns"
   ]
  },
  {
   "cell_type": "code",
   "execution_count": 44,
   "id": "0de8f2f9",
   "metadata": {},
   "outputs": [],
   "source": [
    "# product_df[['product_id', 'category', 'subcategory', 'product_name']].to_csv('products.csv', index=False)"
   ]
  },
  {
   "cell_type": "markdown",
   "id": "5eaed02d",
   "metadata": {},
   "source": [
    "Quantity column"
   ]
  },
  {
   "cell_type": "code",
   "execution_count": 45,
   "id": "5c766505",
   "metadata": {},
   "outputs": [
    {
     "data": {
      "text/html": [
       "<div>\n",
       "<style scoped>\n",
       "    .dataframe tbody tr th:only-of-type {\n",
       "        vertical-align: middle;\n",
       "    }\n",
       "\n",
       "    .dataframe tbody tr th {\n",
       "        vertical-align: top;\n",
       "    }\n",
       "\n",
       "    .dataframe thead th {\n",
       "        text-align: right;\n",
       "    }\n",
       "</style>\n",
       "<table border=\"1\" class=\"dataframe\">\n",
       "  <thead>\n",
       "    <tr style=\"text-align: right;\">\n",
       "      <th></th>\n",
       "      <th>row_id</th>\n",
       "      <th>order_id</th>\n",
       "      <th>order_date</th>\n",
       "      <th>ship_date</th>\n",
       "      <th>ship_mode</th>\n",
       "      <th>customer_id</th>\n",
       "      <th>customer_name</th>\n",
       "      <th>segment</th>\n",
       "      <th>country</th>\n",
       "      <th>city</th>\n",
       "      <th>...</th>\n",
       "      <th>discount</th>\n",
       "      <th>profit</th>\n",
       "      <th>filename</th>\n",
       "      <th>reportid</th>\n",
       "      <th>create_timestamp</th>\n",
       "      <th>file_year</th>\n",
       "      <th>file_month</th>\n",
       "      <th>order_id_prefix</th>\n",
       "      <th>order_id_year</th>\n",
       "      <th>delivery_days_diff</th>\n",
       "    </tr>\n",
       "  </thead>\n",
       "  <tbody>\n",
       "    <tr>\n",
       "      <th>819</th>\n",
       "      <td>1838</td>\n",
       "      <td>CA-2019-117345</td>\n",
       "      <td>2019-01-08</td>\n",
       "      <td>2019-05-08</td>\n",
       "      <td>Standard Class</td>\n",
       "      <td>BF-10975</td>\n",
       "      <td>Barbara Fisher</td>\n",
       "      <td>Corporate</td>\n",
       "      <td>United States</td>\n",
       "      <td>Charlotte</td>\n",
       "      <td>...</td>\n",
       "      <td>0.2</td>\n",
       "      <td>5.9211</td>\n",
       "      <td>201908_Orders_2019_09_01_04_02_26.csv</td>\n",
       "      <td>201908</td>\n",
       "      <td>2019-09-01 04:02:26</td>\n",
       "      <td>2019</td>\n",
       "      <td>08</td>\n",
       "      <td>CA</td>\n",
       "      <td>2019</td>\n",
       "      <td>120</td>\n",
       "    </tr>\n",
       "    <tr>\n",
       "      <th>2837</th>\n",
       "      <td>1505</td>\n",
       "      <td>CA-2020-153388</td>\n",
       "      <td>2020-01-08</td>\n",
       "      <td>2020-07-08</td>\n",
       "      <td>Standard Class</td>\n",
       "      <td>PC-19000</td>\n",
       "      <td>Pauline Chand</td>\n",
       "      <td>Home Office</td>\n",
       "      <td>United States</td>\n",
       "      <td>Los Angeles</td>\n",
       "      <td>...</td>\n",
       "      <td>0.0</td>\n",
       "      <td>3.3600</td>\n",
       "      <td>202008_Orders_2020_09_10_15_48_10.csv</td>\n",
       "      <td>202008</td>\n",
       "      <td>2020-09-10 15:48:10</td>\n",
       "      <td>2020</td>\n",
       "      <td>08</td>\n",
       "      <td>CA</td>\n",
       "      <td>2020</td>\n",
       "      <td>182</td>\n",
       "    </tr>\n",
       "    <tr>\n",
       "      <th>5224</th>\n",
       "      <td>8168</td>\n",
       "      <td>CA-2021-144148</td>\n",
       "      <td>2021-01-08</td>\n",
       "      <td>2021-06-08</td>\n",
       "      <td>Standard Class</td>\n",
       "      <td>AH-10690</td>\n",
       "      <td>Anna Häberlin</td>\n",
       "      <td>Corporate</td>\n",
       "      <td>United States</td>\n",
       "      <td>San Francisco</td>\n",
       "      <td>...</td>\n",
       "      <td>0.2</td>\n",
       "      <td>-32.3673</td>\n",
       "      <td>202108_Orders_2021_09_10_15_19_50.csv</td>\n",
       "      <td>202108</td>\n",
       "      <td>2021-09-10 15:19:50</td>\n",
       "      <td>2021</td>\n",
       "      <td>08</td>\n",
       "      <td>CA</td>\n",
       "      <td>2021</td>\n",
       "      <td>151</td>\n",
       "    </tr>\n",
       "    <tr>\n",
       "      <th>8097</th>\n",
       "      <td>9439</td>\n",
       "      <td>CA-2022-126144</td>\n",
       "      <td>2022-01-08</td>\n",
       "      <td>2022-06-08</td>\n",
       "      <td>Standard Class</td>\n",
       "      <td>GM-14680</td>\n",
       "      <td>Greg Matthias</td>\n",
       "      <td>Consumer</td>\n",
       "      <td>United States</td>\n",
       "      <td>Philadelphia</td>\n",
       "      <td>...</td>\n",
       "      <td>0.4</td>\n",
       "      <td>-57.1152</td>\n",
       "      <td>202208_Orders_2022_09_10_12_41_11.csv</td>\n",
       "      <td>202208</td>\n",
       "      <td>2022-09-10 12:41:11</td>\n",
       "      <td>2022</td>\n",
       "      <td>08</td>\n",
       "      <td>CA</td>\n",
       "      <td>2022</td>\n",
       "      <td>151</td>\n",
       "    </tr>\n",
       "  </tbody>\n",
       "</table>\n",
       "<p>4 rows × 29 columns</p>\n",
       "</div>"
      ],
      "text/plain": [
       "      row_id        order_id order_date  ship_date       ship_mode  \\\n",
       "819     1838  CA-2019-117345 2019-01-08 2019-05-08  Standard Class   \n",
       "2837    1505  CA-2020-153388 2020-01-08 2020-07-08  Standard Class   \n",
       "5224    8168  CA-2021-144148 2021-01-08 2021-06-08  Standard Class   \n",
       "8097    9439  CA-2022-126144 2022-01-08 2022-06-08  Standard Class   \n",
       "\n",
       "     customer_id   customer_name      segment        country           city  \\\n",
       "819     BF-10975  Barbara Fisher    Corporate  United States      Charlotte   \n",
       "2837    PC-19000   Pauline Chand  Home Office  United States    Los Angeles   \n",
       "5224    AH-10690   Anna Häberlin    Corporate  United States  San Francisco   \n",
       "8097    GM-14680   Greg Matthias     Consumer  United States   Philadelphia   \n",
       "\n",
       "      ... discount   profit                               filename reportid  \\\n",
       "819   ...      0.2   5.9211  201908_Orders_2019_09_01_04_02_26.csv   201908   \n",
       "2837  ...      0.0   3.3600  202008_Orders_2020_09_10_15_48_10.csv   202008   \n",
       "5224  ...      0.2 -32.3673  202108_Orders_2021_09_10_15_19_50.csv   202108   \n",
       "8097  ...      0.4 -57.1152  202208_Orders_2022_09_10_12_41_11.csv   202208   \n",
       "\n",
       "        create_timestamp file_year file_month  order_id_prefix  order_id_year  \\\n",
       "819  2019-09-01 04:02:26      2019         08               CA           2019   \n",
       "2837 2020-09-10 15:48:10      2020         08               CA           2020   \n",
       "5224 2021-09-10 15:19:50      2021         08               CA           2021   \n",
       "8097 2022-09-10 12:41:11      2022         08               CA           2022   \n",
       "\n",
       "      delivery_days_diff  \n",
       "819                  120  \n",
       "2837                 182  \n",
       "5224                 151  \n",
       "8097                 151  \n",
       "\n",
       "[4 rows x 29 columns]"
      ]
     },
     "execution_count": 45,
     "metadata": {},
     "output_type": "execute_result"
    }
   ],
   "source": [
    "### how the quantity is negative?\n",
    "mdf[mdf['quantity'] < 0]"
   ]
  },
  {
   "cell_type": "code",
   "execution_count": 46,
   "id": "9af8bbfd",
   "metadata": {},
   "outputs": [
    {
     "data": {
      "text/plain": [
       "<AxesSubplot:>"
      ]
     },
     "execution_count": 46,
     "metadata": {},
     "output_type": "execute_result"
    },
    {
     "data": {
      "image/png": "[encoded data removed]",
      "text/plain": [
       "<Figure size 640x480 with 1 Axes>"
      ]
     },
     "metadata": {},
     "output_type": "display_data"
    }
   ],
   "source": [
    "mdf['quantity'].value_counts().sort_values(ascending=False).plot(kind='bar')"
   ]
  },
  {
   "cell_type": "markdown",
   "id": "a208b2c3",
   "metadata": {},
   "source": [
    "Sales"
   ]
  },
  {
   "cell_type": "code",
   "execution_count": 47,
   "id": "e06aa15f",
   "metadata": {},
   "outputs": [],
   "source": [
    "## impute the profit by having the cost/price for a specific date\n",
    "mdf['unit_price_after_discount'] = mdf['sales'] / mdf['quantity']\n",
    "mdf['unit_price'] = mdf['unit_price_after_discount'] / (1- mdf['discount']).round(2)\n",
    "mdf['unit_price'] = mdf['unit_price'].apply(lambda x: '{:.2f}'.format(x))"
   ]
  },
  {
   "cell_type": "code",
   "execution_count": 48,
   "id": "60408ce0",
   "metadata": {},
   "outputs": [
    {
     "data": {
      "text/html": [
       "<div>\n",
       "<style scoped>\n",
       "    .dataframe tbody tr th:only-of-type {\n",
       "        vertical-align: middle;\n",
       "    }\n",
       "\n",
       "    .dataframe tbody tr th {\n",
       "        vertical-align: top;\n",
       "    }\n",
       "\n",
       "    .dataframe thead th {\n",
       "        text-align: right;\n",
       "    }\n",
       "</style>\n",
       "<table border=\"1\" class=\"dataframe\">\n",
       "  <thead>\n",
       "    <tr style=\"text-align: right;\">\n",
       "      <th></th>\n",
       "      <th>order_date</th>\n",
       "      <th>product_id</th>\n",
       "      <th>unit_price</th>\n",
       "    </tr>\n",
       "  </thead>\n",
       "  <tbody>\n",
       "  </tbody>\n",
       "</table>\n",
       "</div>"
      ],
      "text/plain": [
       "Empty DataFrame\n",
       "Columns: [order_date, product_id, unit_price]\n",
       "Index: []"
      ]
     },
     "execution_count": 48,
     "metadata": {},
     "output_type": "execute_result"
    }
   ],
   "source": [
    "t1 = mdf.groupby(['order_date', 'product_id'], as_index=False)['unit_price'].nunique()\n",
    "t1[t1['unit_price'] >1]"
   ]
  },
  {
   "cell_type": "markdown",
   "id": "ff3310e0",
   "metadata": {},
   "source": [
    "discount"
   ]
  },
  {
   "cell_type": "code",
   "execution_count": 49,
   "id": "836ac6eb",
   "metadata": {},
   "outputs": [
    {
     "data": {
      "text/html": [
       "<div>\n",
       "<style scoped>\n",
       "    .dataframe tbody tr th:only-of-type {\n",
       "        vertical-align: middle;\n",
       "    }\n",
       "\n",
       "    .dataframe tbody tr th {\n",
       "        vertical-align: top;\n",
       "    }\n",
       "\n",
       "    .dataframe thead th {\n",
       "        text-align: right;\n",
       "    }\n",
       "</style>\n",
       "<table border=\"1\" class=\"dataframe\">\n",
       "  <thead>\n",
       "    <tr style=\"text-align: right;\">\n",
       "      <th></th>\n",
       "      <th>order_date</th>\n",
       "      <th>product_id</th>\n",
       "      <th>discount</th>\n",
       "    </tr>\n",
       "  </thead>\n",
       "  <tbody>\n",
       "    <tr>\n",
       "      <th>1019</th>\n",
       "      <td>2019-08-15</td>\n",
       "      <td>OFF-BI-10003638</td>\n",
       "      <td>2</td>\n",
       "    </tr>\n",
       "    <tr>\n",
       "      <th>2111</th>\n",
       "      <td>2020-02-10</td>\n",
       "      <td>OFF-BI-10001757</td>\n",
       "      <td>2</td>\n",
       "    </tr>\n",
       "    <tr>\n",
       "      <th>2128</th>\n",
       "      <td>2020-02-11</td>\n",
       "      <td>OFF-BI-10001524</td>\n",
       "      <td>2</td>\n",
       "    </tr>\n",
       "    <tr>\n",
       "      <th>2214</th>\n",
       "      <td>2020-03-10</td>\n",
       "      <td>FUR-BO-10004409</td>\n",
       "      <td>2</td>\n",
       "    </tr>\n",
       "    <tr>\n",
       "      <th>2379</th>\n",
       "      <td>2020-04-13</td>\n",
       "      <td>FUR-TA-10002530</td>\n",
       "      <td>2</td>\n",
       "    </tr>\n",
       "    <tr>\n",
       "      <th>2851</th>\n",
       "      <td>2020-07-11</td>\n",
       "      <td>FUR-CH-10000595</td>\n",
       "      <td>2</td>\n",
       "    </tr>\n",
       "    <tr>\n",
       "      <th>3236</th>\n",
       "      <td>2020-09-17</td>\n",
       "      <td>FUR-BO-10004834</td>\n",
       "      <td>2</td>\n",
       "    </tr>\n",
       "    <tr>\n",
       "      <th>3633</th>\n",
       "      <td>2020-11-13</td>\n",
       "      <td>OFF-PA-10001790</td>\n",
       "      <td>2</td>\n",
       "    </tr>\n",
       "    <tr>\n",
       "      <th>3989</th>\n",
       "      <td>2020-12-21</td>\n",
       "      <td>TEC-AC-10003198</td>\n",
       "      <td>2</td>\n",
       "    </tr>\n",
       "    <tr>\n",
       "      <th>4565</th>\n",
       "      <td>2021-04-11</td>\n",
       "      <td>OFF-BI-10003981</td>\n",
       "      <td>2</td>\n",
       "    </tr>\n",
       "    <tr>\n",
       "      <th>4936</th>\n",
       "      <td>2021-05-31</td>\n",
       "      <td>TEC-AC-10000109</td>\n",
       "      <td>2</td>\n",
       "    </tr>\n",
       "    <tr>\n",
       "      <th>5012</th>\n",
       "      <td>2021-06-11</td>\n",
       "      <td>OFF-BI-10001989</td>\n",
       "      <td>2</td>\n",
       "    </tr>\n",
       "    <tr>\n",
       "      <th>5110</th>\n",
       "      <td>2021-06-21</td>\n",
       "      <td>OFF-PA-10001870</td>\n",
       "      <td>2</td>\n",
       "    </tr>\n",
       "    <tr>\n",
       "      <th>6410</th>\n",
       "      <td>2021-12-09</td>\n",
       "      <td>OFF-BI-10001658</td>\n",
       "      <td>2</td>\n",
       "    </tr>\n",
       "    <tr>\n",
       "      <th>7150</th>\n",
       "      <td>2022-03-11</td>\n",
       "      <td>OFF-AP-10001962</td>\n",
       "      <td>2</td>\n",
       "    </tr>\n",
       "    <tr>\n",
       "      <th>8180</th>\n",
       "      <td>2022-07-11</td>\n",
       "      <td>OFF-PA-10000157</td>\n",
       "      <td>2</td>\n",
       "    </tr>\n",
       "    <tr>\n",
       "      <th>9043</th>\n",
       "      <td>2022-10-12</td>\n",
       "      <td>OFF-BI-10004182</td>\n",
       "      <td>2</td>\n",
       "    </tr>\n",
       "    <tr>\n",
       "      <th>9609</th>\n",
       "      <td>2022-11-29</td>\n",
       "      <td>FUR-FU-10000576</td>\n",
       "      <td>2</td>\n",
       "    </tr>\n",
       "    <tr>\n",
       "      <th>9922</th>\n",
       "      <td>2022-12-29</td>\n",
       "      <td>FUR-FU-10001935</td>\n",
       "      <td>2</td>\n",
       "    </tr>\n",
       "  </tbody>\n",
       "</table>\n",
       "</div>"
      ],
      "text/plain": [
       "     order_date       product_id  discount\n",
       "1019 2019-08-15  OFF-BI-10003638         2\n",
       "2111 2020-02-10  OFF-BI-10001757         2\n",
       "2128 2020-02-11  OFF-BI-10001524         2\n",
       "2214 2020-03-10  FUR-BO-10004409         2\n",
       "2379 2020-04-13  FUR-TA-10002530         2\n",
       "2851 2020-07-11  FUR-CH-10000595         2\n",
       "3236 2020-09-17  FUR-BO-10004834         2\n",
       "3633 2020-11-13  OFF-PA-10001790         2\n",
       "3989 2020-12-21  TEC-AC-10003198         2\n",
       "4565 2021-04-11  OFF-BI-10003981         2\n",
       "4936 2021-05-31  TEC-AC-10000109         2\n",
       "5012 2021-06-11  OFF-BI-10001989         2\n",
       "5110 2021-06-21  OFF-PA-10001870         2\n",
       "6410 2021-12-09  OFF-BI-10001658         2\n",
       "7150 2022-03-11  OFF-AP-10001962         2\n",
       "8180 2022-07-11  OFF-PA-10000157         2\n",
       "9043 2022-10-12  OFF-BI-10004182         2\n",
       "9609 2022-11-29  FUR-FU-10000576         2\n",
       "9922 2022-12-29  FUR-FU-10001935         2"
      ]
     },
     "execution_count": 49,
     "metadata": {},
     "output_type": "execute_result"
    }
   ],
   "source": [
    "### is discount rate unique per date,product?\n",
    "## segment, customer?\n",
    "t2 = mdf.groupby(['order_date', 'product_id'], as_index=False)['discount'].nunique()\n",
    "t2[t2['discount'] > 1]"
   ]
  },
  {
   "cell_type": "markdown",
   "id": "3986d5fc",
   "metadata": {},
   "source": [
    "profit"
   ]
  },
  {
   "cell_type": "code",
   "execution_count": 50,
   "id": "6c698678",
   "metadata": {},
   "outputs": [
    {
     "data": {
      "text/plain": [
       "234"
      ]
     },
     "execution_count": 50,
     "metadata": {},
     "output_type": "execute_result"
    }
   ],
   "source": [
    "### profit data disconnection for following days\n",
    "mdf[mdf['profit'].isnull()]['row_id'].nunique()"
   ]
  },
  {
   "cell_type": "code",
   "execution_count": 51,
   "id": "450e2b75",
   "metadata": {},
   "outputs": [
    {
     "data": {
      "text/plain": [
       "2021"
      ]
     },
     "execution_count": 51,
     "metadata": {},
     "output_type": "execute_result"
    }
   ],
   "source": [
    "mdf[mdf['delivery_days_diff'] >= 90]['row_id'].nunique()"
   ]
  },
  {
   "cell_type": "code",
   "execution_count": 52,
   "id": "c8d3fc57",
   "metadata": {},
   "outputs": [],
   "source": [
    "cols_ = ['row_id', 'order_id', 'order_date', 'ship_date', 'ship_mode',\n",
    "       'customer_id', 'product_id', 'sales', 'quantity', 'discount', 'profit','delivery_days_diff',\n",
    "       'unit_price_after_discount', 'unit_price']"
   ]
  },
  {
   "cell_type": "code",
   "execution_count": 53,
   "id": "5897f112",
   "metadata": {},
   "outputs": [],
   "source": [
    "# mdf[cols_].to_csv('sales.csv', index=False)"
   ]
  },
  {
   "cell_type": "markdown",
   "id": "94eb856e",
   "metadata": {},
   "source": [
    "Task_6_2_Data_Marts_Rows.csv"
   ]
  },
  {
   "cell_type": "code",
   "execution_count": 55,
   "id": "4f006beb",
   "metadata": {},
   "outputs": [],
   "source": [
    "rows_detail_list = [{'Data Mart System Name' : 'customers', 'Count Rows': cust_df.shape[0], 'Count Distinct PK' :cust_df['customer_id'].nunique()},\n",
    "{'Data Mart System Name' : 'customer_addresses', 'Count Rows': cust_address_df.shape[0], 'Count Distinct PK' :cust_address_df[['customer_id', 'start_dt']].nunique().values},\n",
    "{'Data Mart System Name' : 'products', 'Count Rows': product_df.shape[0], 'Count Distinct PK' :product_df['product_id'].nunique()},\n",
    "{'Data Mart System Name' : 'dates', 'Count Rows': date_df.shape[0], 'Count Distinct PK' :date_df['date'].nunique()},\n",
    "{'Data Mart System Name' : 'sales', 'Count Rows': mdf.shape[0], 'Count Distinct PK' :mdf['row_id'].nunique()}]\n"
   ]
  },
  {
   "cell_type": "code",
   "execution_count": 56,
   "id": "fe0a1b0e",
   "metadata": {},
   "outputs": [],
   "source": [
    "# pd.DataFrame(rows_detail_list).sort_values(\"Count Rows\", ascending = False).to_csv('Task_6_2_Data_Marts_Rows.csv', index=False)"
   ]
  }
 ],
 "metadata": {
  "kernelspec": {
   "display_name": "Python 3 (ipykernel)",
   "language": "python",
   "name": "python3"
  },
  "language_info": {
   "codemirror_mode": {
    "name": "ipython",
    "version": 3
   },
   "file_extension": ".py",
   "mimetype": "text/x-python",
   "name": "python",
   "nbconvert_exporter": "python",
   "pygments_lexer": "ipython3",
   "version": "3.7.3"
  }
 },
 "nbformat": 4,
 "nbformat_minor": 5
}
